{
 "cells": [
  {
   "cell_type": "markdown",
   "metadata": {},
   "source": [
    "# core\n",
    "\n",
    "> Fill in a module description here"
   ]
  },
  {
   "cell_type": "code",
   "execution_count": null,
   "metadata": {},
   "outputs": [],
   "source": [
    "#| default_exp core"
   ]
  },
  {
   "cell_type": "code",
   "execution_count": null,
   "metadata": {},
   "outputs": [],
   "source": [
    "#| export\n",
    "import signal\n",
    "import logging\n",
    "import subprocess\n",
    "import time\n",
    "from gunicorn.glogging import Logger as GLogger"
   ]
  },
  {
   "cell_type": "code",
   "execution_count": null,
   "metadata": {},
   "outputs": [],
   "source": [
    "#| export\n",
    "class GunicornLogger(GLogger):\n",
    "    def setup(self, cfg):\n",
    "        super(GunicornLogger, self).setup(cfg)\n",
    "        self.access_log = logging\n",
    "        self.error_log = logging\n",
    "\n",
    "class TerminateProtected:\n",
    "    kill_now = False\n",
    "\n",
    "    def __init__(self):\n",
    "        signal.signal(signal.SIGINT, self.exit_gracefully)\n",
    "        signal.signal(signal.SIGTERM, self.exit_gracefully)\n",
    "        signal.signal(signal.SIGTSTP, self.exit_gracefully)\n",
    "\n",
    "    def exit_gracefully(self, *args):\n",
    "        logging.warning(\"Received SIGINT but executing anyway.\")\n",
    "        self.kill_now = True"
   ]
  },
  {
   "cell_type": "code",
   "execution_count": null,
   "metadata": {},
   "outputs": [],
   "source": [
    "#| eval: false\n",
    "worker_cmd = ['gunicorn', '-b', '0.0.0.0:5009', '-w', '5', 'worker:app', '-n', 'worker', '--access-logfile', '-']\n",
    "model_cmd = ['gunicorn', '-b', '0.0.0.0:5001', '-w', '1', 'model:app', '-n', 'model', '--access-logfile', '-']\n",
    "worker = subprocess.Popen(worker_cmd)\n",
    "model = subprocess.Popen(model_cmd)\n",
    "graceful_killer = TerminateProtected()\n",
    "while not graceful_killer.kill_now:\n",
    "    time.sleep(1)\n",
    "    if worker.poll() is None or model.poll() is None: continue\n",
    "    else:\n",
    "        worker.send_signal(15)\n",
    "        model.send_signal(15)\n"
   ]
  }
 ],
 "metadata": {
  "kernelspec": {
   "display_name": "Python 3 (ipykernel)",
   "language": "python",
   "name": "python3"
  }
 },
 "nbformat": 4,
 "nbformat_minor": 4
}
